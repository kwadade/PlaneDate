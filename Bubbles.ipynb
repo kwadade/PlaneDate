{
  "nbformat": 4,
  "nbformat_minor": 0,
  "metadata": {
    "colab": {
      "name": "Copy of Bubbles.ipynb",
      "provenance": [],
      "collapsed_sections": [],
      "include_colab_link": true
    },
    "kernelspec": {
      "name": "python3",
      "display_name": "Python 3"
    }
  },
  "cells": [
    {
      "cell_type": "markdown",
      "metadata": {
        "id": "view-in-github",
        "colab_type": "text"
      },
      "source": [
        "<a href=\"https://colab.research.google.com/github/kwadade/PlaneDate/blob/master/Bubbles.ipynb\" target=\"_parent\"><img src=\"https://colab.research.google.com/assets/colab-badge.svg\" alt=\"Open In Colab\"/></a>"
      ]
    },
    {
      "cell_type": "code",
      "metadata": {
        "id": "l0N41OWDkBrs",
        "colab": {
          "base_uri": "https://localhost:8080/"
        },
        "outputId": "0d236e8e-9f8a-46fa-9a55-98005b83bff1"
      },
      "source": [
        "!pip install requests\n",
        "!pip install html5lib\n",
        "!pip install bs4"
      ],
      "execution_count": null,
      "outputs": [
        {
          "output_type": "stream",
          "text": [
            "Requirement already satisfied: requests in /usr/local/lib/python3.6/dist-packages (2.23.0)\n",
            "Requirement already satisfied: urllib3!=1.25.0,!=1.25.1,<1.26,>=1.21.1 in /usr/local/lib/python3.6/dist-packages (from requests) (1.24.3)\n",
            "Requirement already satisfied: certifi>=2017.4.17 in /usr/local/lib/python3.6/dist-packages (from requests) (2020.12.5)\n",
            "Requirement already satisfied: chardet<4,>=3.0.2 in /usr/local/lib/python3.6/dist-packages (from requests) (3.0.4)\n",
            "Requirement already satisfied: idna<3,>=2.5 in /usr/local/lib/python3.6/dist-packages (from requests) (2.10)\n",
            "Requirement already satisfied: html5lib in /usr/local/lib/python3.6/dist-packages (1.0.1)\n",
            "Requirement already satisfied: six>=1.9 in /usr/local/lib/python3.6/dist-packages (from html5lib) (1.15.0)\n",
            "Requirement already satisfied: webencodings in /usr/local/lib/python3.6/dist-packages (from html5lib) (0.5.1)\n",
            "Requirement already satisfied: bs4 in /usr/local/lib/python3.6/dist-packages (0.0.1)\n",
            "Requirement already satisfied: beautifulsoup4 in /usr/local/lib/python3.6/dist-packages (from bs4) (4.6.3)\n"
          ],
          "name": "stdout"
        }
      ]
    },
    {
      "cell_type": "code",
      "metadata": {
        "id": "Q9FC2ICl_sq7",
        "colab": {
          "base_uri": "https://localhost:8080/"
        },
        "outputId": "eff5f010-6fef-4e71-96ae-3c2e84757c8c"
      },
      "source": [
        "#libraries for webscrapping \n",
        "import bs4 as bs\n",
        "import re\n",
        "import urllib.request as url\n",
        "\n",
        "#libary to save the data as a csv file\n",
        "import csv \n",
        "locals = []\n",
        "\n",
        "#Here is a List of Laundry & Dry Cleaners in a target zipcode \n",
        "listOfSources = [\"https://www.yelp.com/search?find_desc=Laundry%20Services&find_loc=10012\",\n",
        "                 \"https://www.yelp.com/search?find_desc=Laundry%20Services&find_loc=10013\",\n",
        "                 \"https://www.yelp.com/search?find_desc=Laundry%20Services&find_loc=10014\",\n",
        "                 \"https://www.yelp.com/search?find_desc=Laundry%20Services&find_loc=10015\",\n",
        "                 \"https://www.yelp.com/search?find_desc=Laundry%20Services&find_loc=10016\"\n",
        "                 ]\n",
        "for Sour in range(len(listOfSources)):  \n",
        "  print(listOfSources[Sour])\n",
        "  source = url.urlopen(listOfSources[Sour])\n",
        "  page_soup = bs.BeautifulSoup(source, 'html.parser')\n",
        "  mains = page_soup.find_all(\"div\", {\"class\": \"lemon--div__09f24__1mboc mainAttributes__09f24__26-vh arrange-unit__09f24__1gZC1 arrange-unit-fill__09f24__O6JFU border-color--default__09f24__R1nRO\"})\n",
        "  print(mains)\n",
        "  #SCRAPPING \n",
        "  for main in mains:\n",
        "      try:\n",
        "          local = {}\n",
        "          busname = main.find(\"a\").text\n",
        "          print(\"Rest_Name:\" + busname)\n",
        "          ratings = main.find(\"span\", {\"class\": \"lemon--span__09f24__3997G display--inline__09f24__3iACj border-color--default__09f24__R1nRO\"}).div.get('aria-label')\n",
        "          print(\"Rest_Ratings:\" + ratings)\n",
        "          clas = \"lemon--a__09f24__IEZFH link__09f24__1kwXV link-color--inherit__09f24__3PYlA link-size--inherit__09f24__2Uj95\"\n",
        "          #lemon--li__09f24__1r9wz border-color--default__09f24__R1nRO\n",
        "          address = main.find(\"a\", {\"class\": clas})\n",
        "          print(\"adrress:\" + str(address))\n",
        "          #\n",
        "          #Return a list containing every occurrence of \"ai\":\n",
        "          txt = str(address)\n",
        "          #SAVING THE NAME \n",
        "          local['name'] = busname\n",
        "\n",
        "          \n",
        "          if re.search(\"\\/biz\\/[A-Za-z0-9-?=]+\", txt):\n",
        "              x = re.findall(\"\\/biz\\/[A-Za-z0-9-?=]+\",txt)\n",
        "              link = x[0]\n",
        "              link = link.replace(\"/biz\",\"www.yelp.com/biz/\")\n",
        "              link = \"https://\"+link\n",
        "\n",
        "              print(\"_____---- \"+ link) \n",
        "          elif (re.search(\"www.[A-Za-z0-9]+.com[A-Za-z0-9%-]+\", txt)):\n",
        "            x = re.findall(\"www.[A-Za-z0-9]+.com[A-Za-z0-9%-]+\", txt)\n",
        "            link = x[0]\n",
        "            link = link.replace(\"%2F\",\"\")\n",
        "            link = link.replace(\"%2\",\"\")\n",
        "            link = link.replace(\"combiz\",\"com/biz\")\n",
        "            link = \"https://\"+link\n",
        "            print(\"*********\" + link)\n",
        "          if (len(link) > 0):\n",
        "            #SAVING THE LINK OF YELP\n",
        "            local['link'] = link\n",
        "            print(link)\n",
        "            print(\"There is a link \")\n",
        "            sourceWebSite = url.urlopen(link)\n",
        "            page_soupDetails = bs.BeautifulSoup(sourceWebSite, 'html.parser')\n",
        "            theSoup = page_soupDetails.find_all(\"div\", {\"class\": \"lemon--div__373c0__1mboc stickySidebar__373c0__3PY1o border-color--default__373c0__3-ifU\"})\n",
        "            mainInternal = theSoup[0]\n",
        "            #print(mainInternal)\n",
        "            #print(\"*** \"  + mainInternal )\n",
        "            #\\([0-9]{3}\\) [0-9]{3}-[0-9]{4}\n",
        "\n",
        "\n",
        "            phoneContent = mainInternal\n",
        "            if (re.search(\"\\([0-9]{3}\\) [0-9]{3}-[0-9]{4}\", str(phoneContent))):\n",
        "                x = re.findall(\"\\([0-9]{3}\\) [0-9]{3}-[0-9]{4}\",str(phoneContent))\n",
        "                phoneNumber = x[0]\n",
        "                print(\"PHONE NUMBER \"+ phoneNumber)\n",
        "                #SAVING THE PHONE NUMBER\n",
        "                local['phoneNumber'] = phoneNumber\n",
        "            else: \n",
        "              local['phoneNumber'] = \"N/A\"\n",
        "              print(\"No number available\")\n",
        "\n",
        "            \n",
        "\n",
        "            #lemon--p__373c0__3Qnnj text__373c0__2U54h text-color--normal__373c0__NMBwo text-align--left__373c0__1Uy60\n",
        "            #lemon--div__373c0__1mboc arrange-unit__373c0__o3tjT arrange-unit-fill__373c0__3Sfw1 border-color--default__373c0__3-ifU\n",
        "\n",
        "\n",
        "\n",
        "            #Webiste Address \n",
        "            WebsiteClass = \"lemon--p__373c0__3Qnnj text__373c0__2U54h text-color--normal__373c0__NMBwo text-align--left__373c0__1Uy60\"\n",
        "            #lemon--li__09f24__1r9wz border-color--default__09f24__R1nRO\n",
        "            Website = mainInternal.find(\"p\", {\"class\": WebsiteClass})\n",
        "            #print(\"number:\" + str(Website))\n",
        "            txt = str(Website)\n",
        "            print(\"WEB ADRESSS \" + txt)\n",
        "            print(txt)\n",
        "            if (re.search(\"[A-Za-z0-9]+.com&\", txt)):\n",
        "                x = re.findall(\"[A-Za-z0-9]+.com&\",txt)\n",
        "                webLink = x[0]\n",
        "                webLink = webLink.replace(\"&\",\"\")\n",
        "                webLink = webLink.replace(\"^2F\",\"https://www.\")\n",
        "                #SAVING THE WEBSITE \n",
        "                local['website'] = webLink\n",
        "                print(\"WEBLINK: \" + webLink)\n",
        "              \n",
        "              \n",
        "                \n",
        "            else:\n",
        "              print(\"No webaddress available\")\n",
        "              local['website'] = \"N/A\"\n",
        "\n",
        "\n",
        "\n",
        "\n",
        "          locals.append(local)\n",
        "\n",
        "      except:\n",
        "          print(None)"
      ],
      "execution_count": null,
      "outputs": [
        {
          "output_type": "stream",
          "text": [
            "https://www.yelp.com/search?find_desc=Laundry%20Services&find_loc=10012\n",
            "[]\n",
            "https://www.yelp.com/search?find_desc=Laundry%20Services&find_loc=10013\n",
            "[]\n",
            "https://www.yelp.com/search?find_desc=Laundry%20Services&find_loc=10014\n",
            "[]\n",
            "https://www.yelp.com/search?find_desc=Laundry%20Services&find_loc=10015\n",
            "[]\n",
            "https://www.yelp.com/search?find_desc=Laundry%20Services&find_loc=10016\n",
            "[]\n"
          ],
          "name": "stdout"
        }
      ]
    },
    {
      "cell_type": "code",
      "metadata": {
        "id": "g3SzPojDBVEE",
        "colab": {
          "base_uri": "https://localhost:8080/"
        },
        "outputId": "86b5314f-1493-4530-e608-9306ce33ab29"
      },
      "source": [
        "#Run this code to save extracted files as a CSV output\n",
        "import csv\n",
        "print(locals)\n",
        "filename = 'laundryData.csv'\n",
        "with open(filename, 'w', newline='') as f: \n",
        "\tw = csv.DictWriter(f,['name','phoneNumber','website', 'link']) \n",
        "\tw.writeheader() \n",
        "\tfor local in locals: \n",
        "\t\tw.writerow(local) \n",
        "for local in locals:\n",
        "  print(local)"
      ],
      "execution_count": null,
      "outputs": [
        {
          "output_type": "stream",
          "text": [
            "[]\n"
          ],
          "name": "stdout"
        }
      ]
    }
  ]
}